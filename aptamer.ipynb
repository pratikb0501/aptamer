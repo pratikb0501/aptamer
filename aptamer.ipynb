{
  "nbformat": 4,
  "nbformat_minor": 0,
  "metadata": {
    "colab": {
      "provenance": []
    },
    "kernelspec": {
      "name": "python3",
      "display_name": "Python 3"
    },
    "language_info": {
      "name": "python"
    }
  },
  "cells": [
    {
      "cell_type": "code",
      "execution_count": null,
      "metadata": {
        "id": "PTyVDNgZsrWe"
      },
      "outputs": [],
      "source": [
        "import pandas as pd\n",
        "import seaborn as sns\n",
        "import matplotlib.pyplot as plt\n",
        "import numpy as np\n",
        "from sklearn.preprocessing import LabelEncoder"
      ]
    },
    {
      "cell_type": "code",
      "source": [
        "df = pd.read_excel('/content/aptamer_list.xlsx')\n",
        "df.head()"
      ],
      "metadata": {
        "colab": {
          "base_uri": "https://localhost:8080/",
          "height": 206
        },
        "id": "dURWGm7QtyYb",
        "outputId": "e0763d7e-bbf6-46a8-9b28-2be7a9de69c8"
      },
      "execution_count": null,
      "outputs": [
        {
          "output_type": "execute_result",
          "data": {
            "text/plain": [
              "         target       category     kd  molecularWeight  \\\n",
              "0     Omethoate  Small Organic   2.50         16990.09   \n",
              "1  Isocarbophos  Small Organic   0.83         16990.09   \n",
              "2  Tetracycline  Small Organic  63.60         23367.05   \n",
              "3    Profenofos  Small Organic   1.00         16990.09   \n",
              "4       Phorate  Small Organic   1.11         16990.09   \n",
              "\n",
              "                                            sequence  \n",
              "0  AAGCTTGCTTTATAGCCTGCAGCGATTCTTGATCGGAAAAGGCTGA...  \n",
              "1  AAGCTTGCTTTATAGCCTGCAGCGATTCTTGATCGGAAAAGGCTGA...  \n",
              "2  CGTACGGAATTCGCTAGCCCCCCGGCAGGCCACGGCTTGGGTTGGT...  \n",
              "3  AAGCTTGCTTTATAGCCTGCAGCGATTCTTGATCGGAAAAGGCTGA...  \n",
              "4  AAGCTTGCTTTATAGCCTGCAGCGATTCTTGATCGGAAAAGGCTGA...  "
            ],
            "text/html": [
              "\n",
              "  <div id=\"df-7d6de9b6-442e-4329-b123-ab7caa0957c5\" class=\"colab-df-container\">\n",
              "    <div>\n",
              "<style scoped>\n",
              "    .dataframe tbody tr th:only-of-type {\n",
              "        vertical-align: middle;\n",
              "    }\n",
              "\n",
              "    .dataframe tbody tr th {\n",
              "        vertical-align: top;\n",
              "    }\n",
              "\n",
              "    .dataframe thead th {\n",
              "        text-align: right;\n",
              "    }\n",
              "</style>\n",
              "<table border=\"1\" class=\"dataframe\">\n",
              "  <thead>\n",
              "    <tr style=\"text-align: right;\">\n",
              "      <th></th>\n",
              "      <th>target</th>\n",
              "      <th>category</th>\n",
              "      <th>kd</th>\n",
              "      <th>molecularWeight</th>\n",
              "      <th>sequence</th>\n",
              "    </tr>\n",
              "  </thead>\n",
              "  <tbody>\n",
              "    <tr>\n",
              "      <th>0</th>\n",
              "      <td>Omethoate</td>\n",
              "      <td>Small Organic</td>\n",
              "      <td>2.50</td>\n",
              "      <td>16990.09</td>\n",
              "      <td>AAGCTTGCTTTATAGCCTGCAGCGATTCTTGATCGGAAAAGGCTGA...</td>\n",
              "    </tr>\n",
              "    <tr>\n",
              "      <th>1</th>\n",
              "      <td>Isocarbophos</td>\n",
              "      <td>Small Organic</td>\n",
              "      <td>0.83</td>\n",
              "      <td>16990.09</td>\n",
              "      <td>AAGCTTGCTTTATAGCCTGCAGCGATTCTTGATCGGAAAAGGCTGA...</td>\n",
              "    </tr>\n",
              "    <tr>\n",
              "      <th>2</th>\n",
              "      <td>Tetracycline</td>\n",
              "      <td>Small Organic</td>\n",
              "      <td>63.60</td>\n",
              "      <td>23367.05</td>\n",
              "      <td>CGTACGGAATTCGCTAGCCCCCCGGCAGGCCACGGCTTGGGTTGGT...</td>\n",
              "    </tr>\n",
              "    <tr>\n",
              "      <th>3</th>\n",
              "      <td>Profenofos</td>\n",
              "      <td>Small Organic</td>\n",
              "      <td>1.00</td>\n",
              "      <td>16990.09</td>\n",
              "      <td>AAGCTTGCTTTATAGCCTGCAGCGATTCTTGATCGGAAAAGGCTGA...</td>\n",
              "    </tr>\n",
              "    <tr>\n",
              "      <th>4</th>\n",
              "      <td>Phorate</td>\n",
              "      <td>Small Organic</td>\n",
              "      <td>1.11</td>\n",
              "      <td>16990.09</td>\n",
              "      <td>AAGCTTGCTTTATAGCCTGCAGCGATTCTTGATCGGAAAAGGCTGA...</td>\n",
              "    </tr>\n",
              "  </tbody>\n",
              "</table>\n",
              "</div>\n",
              "    <div class=\"colab-df-buttons\">\n",
              "\n",
              "  <div class=\"colab-df-container\">\n",
              "    <button class=\"colab-df-convert\" onclick=\"convertToInteractive('df-7d6de9b6-442e-4329-b123-ab7caa0957c5')\"\n",
              "            title=\"Convert this dataframe to an interactive table.\"\n",
              "            style=\"display:none;\">\n",
              "\n",
              "  <svg xmlns=\"http://www.w3.org/2000/svg\" height=\"24px\" viewBox=\"0 -960 960 960\">\n",
              "    <path d=\"M120-120v-720h720v720H120Zm60-500h600v-160H180v160Zm220 220h160v-160H400v160Zm0 220h160v-160H400v160ZM180-400h160v-160H180v160Zm440 0h160v-160H620v160ZM180-180h160v-160H180v160Zm440 0h160v-160H620v160Z\"/>\n",
              "  </svg>\n",
              "    </button>\n",
              "\n",
              "  <style>\n",
              "    .colab-df-container {\n",
              "      display:flex;\n",
              "      gap: 12px;\n",
              "    }\n",
              "\n",
              "    .colab-df-convert {\n",
              "      background-color: #E8F0FE;\n",
              "      border: none;\n",
              "      border-radius: 50%;\n",
              "      cursor: pointer;\n",
              "      display: none;\n",
              "      fill: #1967D2;\n",
              "      height: 32px;\n",
              "      padding: 0 0 0 0;\n",
              "      width: 32px;\n",
              "    }\n",
              "\n",
              "    .colab-df-convert:hover {\n",
              "      background-color: #E2EBFA;\n",
              "      box-shadow: 0px 1px 2px rgba(60, 64, 67, 0.3), 0px 1px 3px 1px rgba(60, 64, 67, 0.15);\n",
              "      fill: #174EA6;\n",
              "    }\n",
              "\n",
              "    .colab-df-buttons div {\n",
              "      margin-bottom: 4px;\n",
              "    }\n",
              "\n",
              "    [theme=dark] .colab-df-convert {\n",
              "      background-color: #3B4455;\n",
              "      fill: #D2E3FC;\n",
              "    }\n",
              "\n",
              "    [theme=dark] .colab-df-convert:hover {\n",
              "      background-color: #434B5C;\n",
              "      box-shadow: 0px 1px 3px 1px rgba(0, 0, 0, 0.15);\n",
              "      filter: drop-shadow(0px 1px 2px rgba(0, 0, 0, 0.3));\n",
              "      fill: #FFFFFF;\n",
              "    }\n",
              "  </style>\n",
              "\n",
              "    <script>\n",
              "      const buttonEl =\n",
              "        document.querySelector('#df-7d6de9b6-442e-4329-b123-ab7caa0957c5 button.colab-df-convert');\n",
              "      buttonEl.style.display =\n",
              "        google.colab.kernel.accessAllowed ? 'block' : 'none';\n",
              "\n",
              "      async function convertToInteractive(key) {\n",
              "        const element = document.querySelector('#df-7d6de9b6-442e-4329-b123-ab7caa0957c5');\n",
              "        const dataTable =\n",
              "          await google.colab.kernel.invokeFunction('convertToInteractive',\n",
              "                                                    [key], {});\n",
              "        if (!dataTable) return;\n",
              "\n",
              "        const docLinkHtml = 'Like what you see? Visit the ' +\n",
              "          '<a target=\"_blank\" href=https://colab.research.google.com/notebooks/data_table.ipynb>data table notebook</a>'\n",
              "          + ' to learn more about interactive tables.';\n",
              "        element.innerHTML = '';\n",
              "        dataTable['output_type'] = 'display_data';\n",
              "        await google.colab.output.renderOutput(dataTable, element);\n",
              "        const docLink = document.createElement('div');\n",
              "        docLink.innerHTML = docLinkHtml;\n",
              "        element.appendChild(docLink);\n",
              "      }\n",
              "    </script>\n",
              "  </div>\n",
              "\n",
              "\n",
              "<div id=\"df-fa9995d6-d454-49cc-bed4-9c821ac288d4\">\n",
              "  <button class=\"colab-df-quickchart\" onclick=\"quickchart('df-fa9995d6-d454-49cc-bed4-9c821ac288d4')\"\n",
              "            title=\"Suggest charts\"\n",
              "            style=\"display:none;\">\n",
              "\n",
              "<svg xmlns=\"http://www.w3.org/2000/svg\" height=\"24px\"viewBox=\"0 0 24 24\"\n",
              "     width=\"24px\">\n",
              "    <g>\n",
              "        <path d=\"M19 3H5c-1.1 0-2 .9-2 2v14c0 1.1.9 2 2 2h14c1.1 0 2-.9 2-2V5c0-1.1-.9-2-2-2zM9 17H7v-7h2v7zm4 0h-2V7h2v10zm4 0h-2v-4h2v4z\"/>\n",
              "    </g>\n",
              "</svg>\n",
              "  </button>\n",
              "\n",
              "<style>\n",
              "  .colab-df-quickchart {\n",
              "      --bg-color: #E8F0FE;\n",
              "      --fill-color: #1967D2;\n",
              "      --hover-bg-color: #E2EBFA;\n",
              "      --hover-fill-color: #174EA6;\n",
              "      --disabled-fill-color: #AAA;\n",
              "      --disabled-bg-color: #DDD;\n",
              "  }\n",
              "\n",
              "  [theme=dark] .colab-df-quickchart {\n",
              "      --bg-color: #3B4455;\n",
              "      --fill-color: #D2E3FC;\n",
              "      --hover-bg-color: #434B5C;\n",
              "      --hover-fill-color: #FFFFFF;\n",
              "      --disabled-bg-color: #3B4455;\n",
              "      --disabled-fill-color: #666;\n",
              "  }\n",
              "\n",
              "  .colab-df-quickchart {\n",
              "    background-color: var(--bg-color);\n",
              "    border: none;\n",
              "    border-radius: 50%;\n",
              "    cursor: pointer;\n",
              "    display: none;\n",
              "    fill: var(--fill-color);\n",
              "    height: 32px;\n",
              "    padding: 0;\n",
              "    width: 32px;\n",
              "  }\n",
              "\n",
              "  .colab-df-quickchart:hover {\n",
              "    background-color: var(--hover-bg-color);\n",
              "    box-shadow: 0 1px 2px rgba(60, 64, 67, 0.3), 0 1px 3px 1px rgba(60, 64, 67, 0.15);\n",
              "    fill: var(--button-hover-fill-color);\n",
              "  }\n",
              "\n",
              "  .colab-df-quickchart-complete:disabled,\n",
              "  .colab-df-quickchart-complete:disabled:hover {\n",
              "    background-color: var(--disabled-bg-color);\n",
              "    fill: var(--disabled-fill-color);\n",
              "    box-shadow: none;\n",
              "  }\n",
              "\n",
              "  .colab-df-spinner {\n",
              "    border: 2px solid var(--fill-color);\n",
              "    border-color: transparent;\n",
              "    border-bottom-color: var(--fill-color);\n",
              "    animation:\n",
              "      spin 1s steps(1) infinite;\n",
              "  }\n",
              "\n",
              "  @keyframes spin {\n",
              "    0% {\n",
              "      border-color: transparent;\n",
              "      border-bottom-color: var(--fill-color);\n",
              "      border-left-color: var(--fill-color);\n",
              "    }\n",
              "    20% {\n",
              "      border-color: transparent;\n",
              "      border-left-color: var(--fill-color);\n",
              "      border-top-color: var(--fill-color);\n",
              "    }\n",
              "    30% {\n",
              "      border-color: transparent;\n",
              "      border-left-color: var(--fill-color);\n",
              "      border-top-color: var(--fill-color);\n",
              "      border-right-color: var(--fill-color);\n",
              "    }\n",
              "    40% {\n",
              "      border-color: transparent;\n",
              "      border-right-color: var(--fill-color);\n",
              "      border-top-color: var(--fill-color);\n",
              "    }\n",
              "    60% {\n",
              "      border-color: transparent;\n",
              "      border-right-color: var(--fill-color);\n",
              "    }\n",
              "    80% {\n",
              "      border-color: transparent;\n",
              "      border-right-color: var(--fill-color);\n",
              "      border-bottom-color: var(--fill-color);\n",
              "    }\n",
              "    90% {\n",
              "      border-color: transparent;\n",
              "      border-bottom-color: var(--fill-color);\n",
              "    }\n",
              "  }\n",
              "</style>\n",
              "\n",
              "  <script>\n",
              "    async function quickchart(key) {\n",
              "      const quickchartButtonEl =\n",
              "        document.querySelector('#' + key + ' button');\n",
              "      quickchartButtonEl.disabled = true;  // To prevent multiple clicks.\n",
              "      quickchartButtonEl.classList.add('colab-df-spinner');\n",
              "      try {\n",
              "        const charts = await google.colab.kernel.invokeFunction(\n",
              "            'suggestCharts', [key], {});\n",
              "      } catch (error) {\n",
              "        console.error('Error during call to suggestCharts:', error);\n",
              "      }\n",
              "      quickchartButtonEl.classList.remove('colab-df-spinner');\n",
              "      quickchartButtonEl.classList.add('colab-df-quickchart-complete');\n",
              "    }\n",
              "    (() => {\n",
              "      let quickchartButtonEl =\n",
              "        document.querySelector('#df-fa9995d6-d454-49cc-bed4-9c821ac288d4 button');\n",
              "      quickchartButtonEl.style.display =\n",
              "        google.colab.kernel.accessAllowed ? 'block' : 'none';\n",
              "    })();\n",
              "  </script>\n",
              "</div>\n",
              "\n",
              "    </div>\n",
              "  </div>\n"
            ],
            "application/vnd.google.colaboratory.intrinsic+json": {
              "type": "dataframe",
              "variable_name": "df",
              "summary": "{\n  \"name\": \"df\",\n  \"rows\": 236,\n  \"fields\": [\n    {\n      \"column\": \"target\",\n      \"properties\": {\n        \"dtype\": \"string\",\n        \"num_unique_values\": 120,\n        \"samples\": [\n          \"Fructose\",\n          \"Beta-Estradiol (Estrogen)\",\n          \"Phorate\"\n        ],\n        \"semantic_type\": \"\",\n        \"description\": \"\"\n      }\n    },\n    {\n      \"column\": \"category\",\n      \"properties\": {\n        \"dtype\": \"category\",\n        \"num_unique_values\": 9,\n        \"samples\": [\n          \"Toxin\",\n          \"Other\",\n          \"Vitamin\"\n        ],\n        \"semantic_type\": \"\",\n        \"description\": \"\"\n      }\n    },\n    {\n      \"column\": \"kd\",\n      \"properties\": {\n        \"dtype\": \"number\",\n        \"std\": 10885.782579436065,\n        \"min\": 0.05,\n        \"max\": 124000.0,\n        \"num_unique_values\": 200,\n        \"samples\": [\n          33.2,\n          58.0,\n          96.0\n        ],\n        \"semantic_type\": \"\",\n        \"description\": \"\"\n      }\n    },\n    {\n      \"column\": \"molecularWeight\",\n      \"properties\": {\n        \"dtype\": \"number\",\n        \"std\": 10889.173267344462,\n        \"min\": 126.1,\n        \"max\": 39076.43,\n        \"num_unique_values\": 123,\n        \"samples\": [\n          8414.46,\n          14720.56,\n          12015.87\n        ],\n        \"semantic_type\": \"\",\n        \"description\": \"\"\n      }\n    },\n    {\n      \"column\": \"sequence\",\n      \"properties\": {\n        \"dtype\": \"string\",\n        \"num_unique_values\": 221,\n        \"samples\": [\n          \"CCTGGGGGAGTATTGCGGAGGAAGG\",\n          \"CCGTAGGTTCGGGGTCGGAGTGGTCCGGAAGGTGGCGTGG\",\n          \"GACGACGCCCGCATGTTCCATGGATAGTCTTGACTAGTCGTC\"\n        ],\n        \"semantic_type\": \"\",\n        \"description\": \"\"\n      }\n    }\n  ]\n}"
            }
          },
          "metadata": {},
          "execution_count": 6
        }
      ]
    },
    {
      "cell_type": "code",
      "source": [
        "df.shape"
      ],
      "metadata": {
        "colab": {
          "base_uri": "https://localhost:8080/"
        },
        "id": "kI-Wk8r7uCFR",
        "outputId": "a2caacad-d7aa-4b02-cc8b-d1f4ac90b4b0"
      },
      "execution_count": null,
      "outputs": [
        {
          "output_type": "execute_result",
          "data": {
            "text/plain": [
              "(236, 5)"
            ]
          },
          "metadata": {},
          "execution_count": 7
        }
      ]
    },
    {
      "cell_type": "code",
      "source": [
        "df.info()"
      ],
      "metadata": {
        "colab": {
          "base_uri": "https://localhost:8080/"
        },
        "id": "rZhYUCRluIYo",
        "outputId": "a97816e8-3089-44c6-989a-913fc442fd1d"
      },
      "execution_count": null,
      "outputs": [
        {
          "output_type": "stream",
          "name": "stdout",
          "text": [
            "<class 'pandas.core.frame.DataFrame'>\n",
            "RangeIndex: 236 entries, 0 to 235\n",
            "Data columns (total 5 columns):\n",
            " #   Column           Non-Null Count  Dtype  \n",
            "---  ------           --------------  -----  \n",
            " 0   target           236 non-null    object \n",
            " 1   category         236 non-null    object \n",
            " 2   kd               236 non-null    float64\n",
            " 3   molecularWeight  236 non-null    float64\n",
            " 4   sequence         236 non-null    object \n",
            "dtypes: float64(2), object(3)\n",
            "memory usage: 9.3+ KB\n"
          ]
        }
      ]
    },
    {
      "cell_type": "code",
      "source": [
        "df.isna().sum()"
      ],
      "metadata": {
        "colab": {
          "base_uri": "https://localhost:8080/"
        },
        "id": "Ap_OgNrLuKax",
        "outputId": "58d4b172-0026-454a-e4a9-2a5c2a19f354"
      },
      "execution_count": null,
      "outputs": [
        {
          "output_type": "execute_result",
          "data": {
            "text/plain": [
              "target             0\n",
              "category           0\n",
              "kd                 0\n",
              "molecularWeight    0\n",
              "sequence           0\n",
              "dtype: int64"
            ]
          },
          "metadata": {},
          "execution_count": 9
        }
      ]
    },
    {
      "cell_type": "code",
      "source": [
        "df['category'].unique()"
      ],
      "metadata": {
        "colab": {
          "base_uri": "https://localhost:8080/"
        },
        "id": "tPs719v5uSn4",
        "outputId": "5fa3569b-1723-4bc2-f203-7661de99f104"
      },
      "execution_count": null,
      "outputs": [
        {
          "output_type": "execute_result",
          "data": {
            "text/plain": [
              "array(['Small Organic', 'Other', 'Steroid', 'Antibiotic', 'Drug',\n",
              "       'Vitamin', 'Organochlorine', 'Toxin', 'Protein'], dtype=object)"
            ]
          },
          "metadata": {},
          "execution_count": 10
        }
      ]
    },
    {
      "cell_type": "code",
      "source": [
        "df['sequence'].nunique()"
      ],
      "metadata": {
        "colab": {
          "base_uri": "https://localhost:8080/"
        },
        "id": "giM5eLGruWek",
        "outputId": "30e31f06-a2a7-457a-e5f4-f4bed88efd1c"
      },
      "execution_count": null,
      "outputs": [
        {
          "output_type": "execute_result",
          "data": {
            "text/plain": [
              "221"
            ]
          },
          "metadata": {},
          "execution_count": 11
        }
      ]
    },
    {
      "cell_type": "code",
      "source": [
        "df['output'] = [1 if cat=='Steroid' else 0 for cat in df['category']]"
      ],
      "metadata": {
        "id": "9QiGOlF3uaa5"
      },
      "execution_count": null,
      "outputs": []
    },
    {
      "cell_type": "code",
      "source": [
        "df['output'].nunique()"
      ],
      "metadata": {
        "colab": {
          "base_uri": "https://localhost:8080/"
        },
        "id": "YL9-VWDowBR9",
        "outputId": "540fe6a4-665e-42eb-aaa6-15159982b999"
      },
      "execution_count": null,
      "outputs": [
        {
          "output_type": "execute_result",
          "data": {
            "text/plain": [
              "2"
            ]
          },
          "metadata": {},
          "execution_count": 13
        }
      ]
    },
    {
      "cell_type": "code",
      "source": [
        "le = LabelEncoder()\n",
        "df['encode_seq'] = le.fit_transform(df['sequence'])"
      ],
      "metadata": {
        "id": "_moeiAIIwOmD"
      },
      "execution_count": null,
      "outputs": []
    },
    {
      "cell_type": "code",
      "source": [
        "df['encode_seq']"
      ],
      "metadata": {
        "colab": {
          "base_uri": "https://localhost:8080/"
        },
        "id": "Ngiphd4gw1BW",
        "outputId": "b11af1be-7c16-4566-d9d0-fb5a049222d7"
      },
      "execution_count": null,
      "outputs": [
        {
          "output_type": "execute_result",
          "data": {
            "text/plain": [
              "0        4\n",
              "1        4\n",
              "2       96\n",
              "3        4\n",
              "4        4\n",
              "      ... \n",
              "231    160\n",
              "232     80\n",
              "233    182\n",
              "234     37\n",
              "235     63\n",
              "Name: encode_seq, Length: 236, dtype: int64"
            ]
          },
          "metadata": {},
          "execution_count": 15
        }
      ]
    },
    {
      "cell_type": "code",
      "source": [
        "X = df['encode_seq']\n",
        "Y = df['output']"
      ],
      "metadata": {
        "id": "Acn8w5S8w38N"
      },
      "execution_count": null,
      "outputs": []
    },
    {
      "cell_type": "code",
      "source": [
        "from sklearn.model_selection import train_test_split\n",
        "x_train,x_test,y_train,y_test = train_test_split(X,Y,test_size=0.3,random_state=42)"
      ],
      "metadata": {
        "id": "KT1YDbiLz0wJ"
      },
      "execution_count": null,
      "outputs": []
    },
    {
      "cell_type": "code",
      "source": [
        "import tensorflow as tf\n"
      ],
      "metadata": {
        "id": "_5MtBnpdxgQr"
      },
      "execution_count": null,
      "outputs": []
    },
    {
      "cell_type": "code",
      "source": [
        "ann = tf.keras.models.Sequential()"
      ],
      "metadata": {
        "id": "avo8_2wzyeM-"
      },
      "execution_count": null,
      "outputs": []
    },
    {
      "cell_type": "code",
      "source": [
        "ann.add(tf.keras.layers.Dense(10,activation='relu'))\n",
        "ann.add(tf.keras.layers.Dense(20,activation='relu'))\n",
        "#ann.add(tf.keras.layers.Dense(18,activation='relu'))\n",
        "ann.add(tf.keras.layers.Dense(10,activation='relu'))\n",
        "ann.add(tf.keras.layers.Dense(1,activation='sigmoid'))"
      ],
      "metadata": {
        "id": "pBm4f03zy--Y"
      },
      "execution_count": null,
      "outputs": []
    },
    {
      "cell_type": "code",
      "source": [
        "ann.compile(optimizer=\"adam\",loss=\"binary_crossentropy\",metrics=['accuracy'])"
      ],
      "metadata": {
        "id": "e0VPlMfnzo4k"
      },
      "execution_count": null,
      "outputs": []
    },
    {
      "cell_type": "code",
      "source": [
        "ann.fit(x_train,y_train,validation_split=0.3,epochs=100,verbose=2)"
      ],
      "metadata": {
        "colab": {
          "base_uri": "https://localhost:8080/"
        },
        "id": "V8LK-WEtzxsp",
        "outputId": "7c131209-aa14-4e4b-e2be-81496f6f5ee4"
      },
      "execution_count": null,
      "outputs": [
        {
          "output_type": "stream",
          "name": "stdout",
          "text": [
            "Epoch 1/100\n",
            "4/4 - 1s - loss: 5.8085 - accuracy: 0.7913 - val_loss: 6.5107 - val_accuracy: 0.8000 - 1s/epoch - 345ms/step\n",
            "Epoch 2/100\n",
            "4/4 - 0s - loss: 4.6767 - accuracy: 0.7913 - val_loss: 5.4925 - val_accuracy: 0.8000 - 33ms/epoch - 8ms/step\n",
            "Epoch 3/100\n",
            "4/4 - 0s - loss: 4.0196 - accuracy: 0.7913 - val_loss: 4.6277 - val_accuracy: 0.8000 - 36ms/epoch - 9ms/step\n",
            "Epoch 4/100\n",
            "4/4 - 0s - loss: 3.3558 - accuracy: 0.7913 - val_loss: 3.7582 - val_accuracy: 0.8000 - 52ms/epoch - 13ms/step\n",
            "Epoch 5/100\n",
            "4/4 - 0s - loss: 2.6620 - accuracy: 0.7913 - val_loss: 2.9117 - val_accuracy: 0.8000 - 51ms/epoch - 13ms/step\n",
            "Epoch 6/100\n",
            "4/4 - 0s - loss: 2.0472 - accuracy: 0.7913 - val_loss: 2.0830 - val_accuracy: 0.8000 - 37ms/epoch - 9ms/step\n",
            "Epoch 7/100\n",
            "4/4 - 0s - loss: 1.4281 - accuracy: 0.7826 - val_loss: 1.2960 - val_accuracy: 0.8000 - 36ms/epoch - 9ms/step\n",
            "Epoch 8/100\n",
            "4/4 - 0s - loss: 0.8628 - accuracy: 0.7826 - val_loss: 0.6906 - val_accuracy: 0.7200 - 39ms/epoch - 10ms/step\n",
            "Epoch 9/100\n",
            "4/4 - 0s - loss: 0.6348 - accuracy: 0.6174 - val_loss: 0.8407 - val_accuracy: 0.2000 - 53ms/epoch - 13ms/step\n",
            "Epoch 10/100\n",
            "4/4 - 0s - loss: 0.8449 - accuracy: 0.2087 - val_loss: 0.7028 - val_accuracy: 0.4400 - 52ms/epoch - 13ms/step\n",
            "Epoch 11/100\n",
            "4/4 - 0s - loss: 0.6296 - accuracy: 0.6435 - val_loss: 0.6827 - val_accuracy: 0.7400 - 60ms/epoch - 15ms/step\n",
            "Epoch 12/100\n",
            "4/4 - 0s - loss: 0.6140 - accuracy: 0.7391 - val_loss: 0.7942 - val_accuracy: 0.7800 - 39ms/epoch - 10ms/step\n",
            "Epoch 13/100\n",
            "4/4 - 0s - loss: 0.6765 - accuracy: 0.7565 - val_loss: 0.7863 - val_accuracy: 0.7800 - 55ms/epoch - 14ms/step\n",
            "Epoch 14/100\n",
            "4/4 - 0s - loss: 0.6553 - accuracy: 0.7565 - val_loss: 0.6796 - val_accuracy: 0.7600 - 43ms/epoch - 11ms/step\n",
            "Epoch 15/100\n",
            "4/4 - 0s - loss: 0.6111 - accuracy: 0.7391 - val_loss: 0.6337 - val_accuracy: 0.7000 - 37ms/epoch - 9ms/step\n",
            "Epoch 16/100\n",
            "4/4 - 0s - loss: 0.6046 - accuracy: 0.7217 - val_loss: 0.6336 - val_accuracy: 0.7000 - 48ms/epoch - 12ms/step\n",
            "Epoch 17/100\n",
            "4/4 - 0s - loss: 0.5953 - accuracy: 0.7304 - val_loss: 0.6370 - val_accuracy: 0.7400 - 39ms/epoch - 10ms/step\n",
            "Epoch 18/100\n",
            "4/4 - 0s - loss: 0.5828 - accuracy: 0.7478 - val_loss: 0.6610 - val_accuracy: 0.8000 - 55ms/epoch - 14ms/step\n",
            "Epoch 19/100\n",
            "4/4 - 0s - loss: 0.5956 - accuracy: 0.7826 - val_loss: 0.6745 - val_accuracy: 0.8000 - 54ms/epoch - 14ms/step\n",
            "Epoch 20/100\n",
            "4/4 - 0s - loss: 0.5969 - accuracy: 0.7826 - val_loss: 0.6514 - val_accuracy: 0.8000 - 37ms/epoch - 9ms/step\n",
            "Epoch 21/100\n",
            "4/4 - 0s - loss: 0.5855 - accuracy: 0.7826 - val_loss: 0.6316 - val_accuracy: 0.8000 - 36ms/epoch - 9ms/step\n",
            "Epoch 22/100\n",
            "4/4 - 0s - loss: 0.5942 - accuracy: 0.7826 - val_loss: 0.6251 - val_accuracy: 0.8000 - 39ms/epoch - 10ms/step\n",
            "Epoch 23/100\n",
            "4/4 - 0s - loss: 0.5916 - accuracy: 0.7913 - val_loss: 0.6311 - val_accuracy: 0.8000 - 39ms/epoch - 10ms/step\n",
            "Epoch 24/100\n",
            "4/4 - 0s - loss: 0.5919 - accuracy: 0.7913 - val_loss: 0.6487 - val_accuracy: 0.8000 - 53ms/epoch - 13ms/step\n",
            "Epoch 25/100\n",
            "4/4 - 0s - loss: 0.5864 - accuracy: 0.7913 - val_loss: 0.6339 - val_accuracy: 0.8000 - 52ms/epoch - 13ms/step\n",
            "Epoch 26/100\n",
            "4/4 - 0s - loss: 0.5839 - accuracy: 0.7913 - val_loss: 0.6203 - val_accuracy: 0.8000 - 41ms/epoch - 10ms/step\n",
            "Epoch 27/100\n",
            "4/4 - 0s - loss: 0.5846 - accuracy: 0.7913 - val_loss: 0.6215 - val_accuracy: 0.8000 - 52ms/epoch - 13ms/step\n",
            "Epoch 28/100\n",
            "4/4 - 0s - loss: 0.5824 - accuracy: 0.7913 - val_loss: 0.6294 - val_accuracy: 0.8000 - 36ms/epoch - 9ms/step\n",
            "Epoch 29/100\n",
            "4/4 - 0s - loss: 0.5807 - accuracy: 0.7913 - val_loss: 0.6337 - val_accuracy: 0.8000 - 40ms/epoch - 10ms/step\n",
            "Epoch 30/100\n",
            "4/4 - 0s - loss: 0.5809 - accuracy: 0.7913 - val_loss: 0.6312 - val_accuracy: 0.8000 - 53ms/epoch - 13ms/step\n",
            "Epoch 31/100\n",
            "4/4 - 0s - loss: 0.5762 - accuracy: 0.7913 - val_loss: 0.6162 - val_accuracy: 0.8000 - 54ms/epoch - 13ms/step\n",
            "Epoch 32/100\n",
            "4/4 - 0s - loss: 0.5793 - accuracy: 0.7913 - val_loss: 0.6128 - val_accuracy: 0.8000 - 52ms/epoch - 13ms/step\n",
            "Epoch 33/100\n",
            "4/4 - 0s - loss: 0.5786 - accuracy: 0.7913 - val_loss: 0.6172 - val_accuracy: 0.8000 - 36ms/epoch - 9ms/step\n",
            "Epoch 34/100\n",
            "4/4 - 0s - loss: 0.5778 - accuracy: 0.7913 - val_loss: 0.6217 - val_accuracy: 0.8000 - 37ms/epoch - 9ms/step\n",
            "Epoch 35/100\n",
            "4/4 - 0s - loss: 0.5774 - accuracy: 0.7913 - val_loss: 0.6122 - val_accuracy: 0.8000 - 37ms/epoch - 9ms/step\n",
            "Epoch 36/100\n",
            "4/4 - 0s - loss: 0.5737 - accuracy: 0.7913 - val_loss: 0.6196 - val_accuracy: 0.8000 - 56ms/epoch - 14ms/step\n",
            "Epoch 37/100\n",
            "4/4 - 0s - loss: 0.5729 - accuracy: 0.7913 - val_loss: 0.6170 - val_accuracy: 0.8000 - 65ms/epoch - 16ms/step\n",
            "Epoch 38/100\n",
            "4/4 - 0s - loss: 0.5736 - accuracy: 0.7913 - val_loss: 0.6157 - val_accuracy: 0.8000 - 54ms/epoch - 14ms/step\n",
            "Epoch 39/100\n",
            "4/4 - 0s - loss: 0.5754 - accuracy: 0.7913 - val_loss: 0.6038 - val_accuracy: 0.8000 - 41ms/epoch - 10ms/step\n",
            "Epoch 40/100\n",
            "4/4 - 0s - loss: 0.5753 - accuracy: 0.7913 - val_loss: 0.6072 - val_accuracy: 0.8000 - 54ms/epoch - 14ms/step\n",
            "Epoch 41/100\n",
            "4/4 - 0s - loss: 0.5754 - accuracy: 0.7913 - val_loss: 0.6268 - val_accuracy: 0.8000 - 36ms/epoch - 9ms/step\n",
            "Epoch 42/100\n",
            "4/4 - 0s - loss: 0.5723 - accuracy: 0.7913 - val_loss: 0.6144 - val_accuracy: 0.8000 - 55ms/epoch - 14ms/step\n",
            "Epoch 43/100\n",
            "4/4 - 0s - loss: 0.5647 - accuracy: 0.7913 - val_loss: 0.5981 - val_accuracy: 0.8000 - 55ms/epoch - 14ms/step\n",
            "Epoch 44/100\n",
            "4/4 - 0s - loss: 0.5795 - accuracy: 0.7913 - val_loss: 0.5967 - val_accuracy: 0.8000 - 39ms/epoch - 10ms/step\n",
            "Epoch 45/100\n",
            "4/4 - 0s - loss: 0.5655 - accuracy: 0.7913 - val_loss: 0.6159 - val_accuracy: 0.8000 - 37ms/epoch - 9ms/step\n",
            "Epoch 46/100\n",
            "4/4 - 0s - loss: 0.5669 - accuracy: 0.7913 - val_loss: 0.6294 - val_accuracy: 0.8000 - 39ms/epoch - 10ms/step\n",
            "Epoch 47/100\n",
            "4/4 - 0s - loss: 0.5733 - accuracy: 0.7913 - val_loss: 0.6070 - val_accuracy: 0.8000 - 54ms/epoch - 13ms/step\n",
            "Epoch 48/100\n",
            "4/4 - 0s - loss: 0.5683 - accuracy: 0.7913 - val_loss: 0.5962 - val_accuracy: 0.8000 - 55ms/epoch - 14ms/step\n",
            "Epoch 49/100\n",
            "4/4 - 0s - loss: 0.5651 - accuracy: 0.7913 - val_loss: 0.5979 - val_accuracy: 0.8000 - 38ms/epoch - 9ms/step\n",
            "Epoch 50/100\n",
            "4/4 - 0s - loss: 0.5617 - accuracy: 0.7913 - val_loss: 0.5967 - val_accuracy: 0.8000 - 60ms/epoch - 15ms/step\n",
            "Epoch 51/100\n",
            "4/4 - 0s - loss: 0.5632 - accuracy: 0.7913 - val_loss: 0.5925 - val_accuracy: 0.8000 - 39ms/epoch - 10ms/step\n",
            "Epoch 52/100\n",
            "4/4 - 0s - loss: 0.5596 - accuracy: 0.7913 - val_loss: 0.6007 - val_accuracy: 0.8000 - 40ms/epoch - 10ms/step\n",
            "Epoch 53/100\n",
            "4/4 - 0s - loss: 0.5603 - accuracy: 0.7913 - val_loss: 0.6001 - val_accuracy: 0.8000 - 57ms/epoch - 14ms/step\n",
            "Epoch 54/100\n",
            "4/4 - 0s - loss: 0.5596 - accuracy: 0.7913 - val_loss: 0.5921 - val_accuracy: 0.8000 - 37ms/epoch - 9ms/step\n",
            "Epoch 55/100\n",
            "4/4 - 0s - loss: 0.5582 - accuracy: 0.7913 - val_loss: 0.5883 - val_accuracy: 0.8000 - 38ms/epoch - 10ms/step\n",
            "Epoch 56/100\n",
            "4/4 - 0s - loss: 0.5569 - accuracy: 0.7913 - val_loss: 0.5898 - val_accuracy: 0.8000 - 38ms/epoch - 10ms/step\n",
            "Epoch 57/100\n",
            "4/4 - 0s - loss: 0.5579 - accuracy: 0.7913 - val_loss: 0.5916 - val_accuracy: 0.8000 - 61ms/epoch - 15ms/step\n",
            "Epoch 58/100\n",
            "4/4 - 0s - loss: 0.5613 - accuracy: 0.7913 - val_loss: 0.5836 - val_accuracy: 0.8000 - 53ms/epoch - 13ms/step\n",
            "Epoch 59/100\n",
            "4/4 - 0s - loss: 0.5579 - accuracy: 0.7913 - val_loss: 0.5980 - val_accuracy: 0.8000 - 58ms/epoch - 15ms/step\n",
            "Epoch 60/100\n",
            "4/4 - 0s - loss: 0.5566 - accuracy: 0.7913 - val_loss: 0.5884 - val_accuracy: 0.8000 - 56ms/epoch - 14ms/step\n",
            "Epoch 61/100\n",
            "4/4 - 0s - loss: 0.5556 - accuracy: 0.7913 - val_loss: 0.5806 - val_accuracy: 0.8000 - 36ms/epoch - 9ms/step\n",
            "Epoch 62/100\n",
            "4/4 - 0s - loss: 0.5564 - accuracy: 0.7913 - val_loss: 0.5792 - val_accuracy: 0.8000 - 60ms/epoch - 15ms/step\n",
            "Epoch 63/100\n",
            "4/4 - 0s - loss: 0.5548 - accuracy: 0.7913 - val_loss: 0.5801 - val_accuracy: 0.8000 - 57ms/epoch - 14ms/step\n",
            "Epoch 64/100\n",
            "4/4 - 0s - loss: 0.5512 - accuracy: 0.7913 - val_loss: 0.5919 - val_accuracy: 0.8000 - 38ms/epoch - 10ms/step\n",
            "Epoch 65/100\n",
            "4/4 - 0s - loss: 0.5566 - accuracy: 0.7913 - val_loss: 0.5810 - val_accuracy: 0.8000 - 42ms/epoch - 11ms/step\n",
            "Epoch 66/100\n",
            "4/4 - 0s - loss: 0.5674 - accuracy: 0.7913 - val_loss: 0.5923 - val_accuracy: 0.8000 - 39ms/epoch - 10ms/step\n",
            "Epoch 67/100\n",
            "4/4 - 0s - loss: 0.5557 - accuracy: 0.7913 - val_loss: 0.5719 - val_accuracy: 0.8000 - 36ms/epoch - 9ms/step\n",
            "Epoch 68/100\n",
            "4/4 - 0s - loss: 0.5687 - accuracy: 0.7913 - val_loss: 0.5706 - val_accuracy: 0.8000 - 37ms/epoch - 9ms/step\n",
            "Epoch 69/100\n",
            "4/4 - 0s - loss: 0.5635 - accuracy: 0.7913 - val_loss: 0.5883 - val_accuracy: 0.8000 - 34ms/epoch - 9ms/step\n",
            "Epoch 70/100\n",
            "4/4 - 0s - loss: 0.5515 - accuracy: 0.7913 - val_loss: 0.5689 - val_accuracy: 0.8000 - 38ms/epoch - 9ms/step\n",
            "Epoch 71/100\n",
            "4/4 - 0s - loss: 0.5486 - accuracy: 0.7913 - val_loss: 0.5709 - val_accuracy: 0.8000 - 36ms/epoch - 9ms/step\n",
            "Epoch 72/100\n",
            "4/4 - 0s - loss: 0.5529 - accuracy: 0.7913 - val_loss: 0.5783 - val_accuracy: 0.8000 - 51ms/epoch - 13ms/step\n",
            "Epoch 73/100\n",
            "4/4 - 0s - loss: 0.5498 - accuracy: 0.7913 - val_loss: 0.5787 - val_accuracy: 0.8000 - 53ms/epoch - 13ms/step\n",
            "Epoch 74/100\n",
            "4/4 - 0s - loss: 0.5534 - accuracy: 0.7913 - val_loss: 0.5637 - val_accuracy: 0.8000 - 60ms/epoch - 15ms/step\n",
            "Epoch 75/100\n",
            "4/4 - 0s - loss: 0.5464 - accuracy: 0.7913 - val_loss: 0.5700 - val_accuracy: 0.8000 - 53ms/epoch - 13ms/step\n",
            "Epoch 76/100\n",
            "4/4 - 0s - loss: 0.5450 - accuracy: 0.7913 - val_loss: 0.5804 - val_accuracy: 0.8000 - 53ms/epoch - 13ms/step\n",
            "Epoch 77/100\n",
            "4/4 - 0s - loss: 0.5465 - accuracy: 0.7913 - val_loss: 0.5692 - val_accuracy: 0.8000 - 63ms/epoch - 16ms/step\n",
            "Epoch 78/100\n",
            "4/4 - 0s - loss: 0.5453 - accuracy: 0.7913 - val_loss: 0.5649 - val_accuracy: 0.8000 - 53ms/epoch - 13ms/step\n",
            "Epoch 79/100\n",
            "4/4 - 0s - loss: 0.5452 - accuracy: 0.7913 - val_loss: 0.5582 - val_accuracy: 0.8000 - 54ms/epoch - 13ms/step\n",
            "Epoch 80/100\n",
            "4/4 - 0s - loss: 0.5509 - accuracy: 0.7913 - val_loss: 0.5662 - val_accuracy: 0.8000 - 55ms/epoch - 14ms/step\n",
            "Epoch 81/100\n",
            "4/4 - 0s - loss: 0.5433 - accuracy: 0.7913 - val_loss: 0.5608 - val_accuracy: 0.8000 - 52ms/epoch - 13ms/step\n",
            "Epoch 82/100\n",
            "4/4 - 0s - loss: 0.5459 - accuracy: 0.7913 - val_loss: 0.5582 - val_accuracy: 0.8000 - 53ms/epoch - 13ms/step\n",
            "Epoch 83/100\n",
            "4/4 - 0s - loss: 0.5400 - accuracy: 0.7913 - val_loss: 0.5757 - val_accuracy: 0.8000 - 53ms/epoch - 13ms/step\n",
            "Epoch 84/100\n",
            "4/4 - 0s - loss: 0.5443 - accuracy: 0.7913 - val_loss: 0.5674 - val_accuracy: 0.8000 - 41ms/epoch - 10ms/step\n",
            "Epoch 85/100\n",
            "4/4 - 0s - loss: 0.5420 - accuracy: 0.7913 - val_loss: 0.5581 - val_accuracy: 0.8000 - 40ms/epoch - 10ms/step\n",
            "Epoch 86/100\n",
            "4/4 - 0s - loss: 0.5401 - accuracy: 0.7913 - val_loss: 0.5552 - val_accuracy: 0.8000 - 42ms/epoch - 10ms/step\n",
            "Epoch 87/100\n",
            "4/4 - 0s - loss: 0.5404 - accuracy: 0.7913 - val_loss: 0.5567 - val_accuracy: 0.8000 - 53ms/epoch - 13ms/step\n",
            "Epoch 88/100\n",
            "4/4 - 0s - loss: 0.5420 - accuracy: 0.7913 - val_loss: 0.5702 - val_accuracy: 0.8000 - 52ms/epoch - 13ms/step\n",
            "Epoch 89/100\n",
            "4/4 - 0s - loss: 0.5453 - accuracy: 0.7913 - val_loss: 0.5544 - val_accuracy: 0.8000 - 54ms/epoch - 14ms/step\n",
            "Epoch 90/100\n",
            "4/4 - 0s - loss: 0.5428 - accuracy: 0.7913 - val_loss: 0.5568 - val_accuracy: 0.8000 - 37ms/epoch - 9ms/step\n",
            "Epoch 91/100\n",
            "4/4 - 0s - loss: 0.5404 - accuracy: 0.7913 - val_loss: 0.5588 - val_accuracy: 0.8000 - 53ms/epoch - 13ms/step\n",
            "Epoch 92/100\n",
            "4/4 - 0s - loss: 0.5388 - accuracy: 0.7913 - val_loss: 0.5520 - val_accuracy: 0.8000 - 52ms/epoch - 13ms/step\n",
            "Epoch 93/100\n",
            "4/4 - 0s - loss: 0.5384 - accuracy: 0.7913 - val_loss: 0.5500 - val_accuracy: 0.8000 - 36ms/epoch - 9ms/step\n",
            "Epoch 94/100\n",
            "4/4 - 0s - loss: 0.5395 - accuracy: 0.7913 - val_loss: 0.5501 - val_accuracy: 0.8000 - 51ms/epoch - 13ms/step\n",
            "Epoch 95/100\n",
            "4/4 - 0s - loss: 0.5343 - accuracy: 0.7913 - val_loss: 0.5613 - val_accuracy: 0.8000 - 53ms/epoch - 13ms/step\n",
            "Epoch 96/100\n",
            "4/4 - 0s - loss: 0.5383 - accuracy: 0.7913 - val_loss: 0.5593 - val_accuracy: 0.8000 - 63ms/epoch - 16ms/step\n",
            "Epoch 97/100\n",
            "4/4 - 0s - loss: 0.5397 - accuracy: 0.7913 - val_loss: 0.5530 - val_accuracy: 0.8000 - 35ms/epoch - 9ms/step\n",
            "Epoch 98/100\n",
            "4/4 - 0s - loss: 0.5424 - accuracy: 0.7913 - val_loss: 0.5568 - val_accuracy: 0.8000 - 52ms/epoch - 13ms/step\n",
            "Epoch 99/100\n",
            "4/4 - 0s - loss: 0.5354 - accuracy: 0.7913 - val_loss: 0.5419 - val_accuracy: 0.8000 - 33ms/epoch - 8ms/step\n",
            "Epoch 100/100\n",
            "4/4 - 0s - loss: 0.5412 - accuracy: 0.7913 - val_loss: 0.5470 - val_accuracy: 0.8000 - 51ms/epoch - 13ms/step\n"
          ]
        },
        {
          "output_type": "execute_result",
          "data": {
            "text/plain": [
              "<keras.src.callbacks.History at 0x788830277580>"
            ]
          },
          "metadata": {},
          "execution_count": 22
        }
      ]
    },
    {
      "cell_type": "code",
      "source": [
        "ann.evaluate(x_test,y_test)"
      ],
      "metadata": {
        "colab": {
          "base_uri": "https://localhost:8080/"
        },
        "id": "tb8f661O41sY",
        "outputId": "f462e796-689e-4c67-bc3a-81e46c33df89"
      },
      "execution_count": null,
      "outputs": [
        {
          "output_type": "stream",
          "name": "stdout",
          "text": [
            "3/3 [==============================] - 0s 6ms/step - loss: 0.5413 - accuracy: 0.7887\n"
          ]
        },
        {
          "output_type": "execute_result",
          "data": {
            "text/plain": [
              "[0.5413093566894531, 0.7887324094772339]"
            ]
          },
          "metadata": {},
          "execution_count": 23
        }
      ]
    },
    {
      "cell_type": "code",
      "source": [
        "seq1 = 'TAGGGAAGAGAAGGACATATGATATTACTTGCGGGGGTCCTCTCATTGAAAATTTCCATAACTTTGACTAGTACATGACCACTTGA' #steriod sequence"
      ],
      "metadata": {
        "id": "a564EMr-0Wqy"
      },
      "execution_count": null,
      "outputs": []
    },
    {
      "cell_type": "code",
      "source": [
        "input = le.fit_transform([[seq1]])\n",
        "ann.predict(input)"
      ],
      "metadata": {
        "colab": {
          "base_uri": "https://localhost:8080/"
        },
        "id": "yTDTI42sG9OV",
        "outputId": "6e7359e3-cc0b-4480-be18-f2252b0f0867"
      },
      "execution_count": null,
      "outputs": [
        {
          "output_type": "stream",
          "name": "stderr",
          "text": [
            "/usr/local/lib/python3.10/dist-packages/sklearn/preprocessing/_label.py:116: DataConversionWarning: A column-vector y was passed when a 1d array was expected. Please change the shape of y to (n_samples, ), for example using ravel().\n",
            "  y = column_or_1d(y, warn=True)\n"
          ]
        },
        {
          "output_type": "stream",
          "name": "stdout",
          "text": [
            "1/1 [==============================] - 0s 155ms/step\n"
          ]
        },
        {
          "output_type": "execute_result",
          "data": {
            "text/plain": [
              "array([[0.38754225]], dtype=float32)"
            ]
          },
          "metadata": {},
          "execution_count": 25
        }
      ]
    },
    {
      "cell_type": "code",
      "source": [],
      "metadata": {
        "id": "iLontuh1rAIE"
      },
      "execution_count": null,
      "outputs": []
    },
    {
      "cell_type": "code",
      "source": [],
      "metadata": {
        "id": "MAwYqA3kHFzm"
      },
      "execution_count": null,
      "outputs": []
    }
  ]
}